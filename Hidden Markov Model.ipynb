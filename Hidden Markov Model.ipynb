{
 "cells": [
  {
   "cell_type": "code",
   "execution_count": 130,
   "id": "b6cb1088",
   "metadata": {},
   "outputs": [],
   "source": [
    "import numpy as np\n",
    "initialState = np.array([1,0]);\n",
    "tansitionProb = np.array([[0.8,0.2], [0.2,0.8]])\n",
    "emissionProb = np.array([[0.4,0.1,0.3,0.2],[0.1,0.4,0.2,0.3]])\n",
    "observation = np.array([1,4,2,2,3])"
   ]
  },
  {
   "cell_type": "code",
   "execution_count": 132,
   "id": "8a2d9742",
   "metadata": {},
   "outputs": [
    {
     "name": "stdout",
     "output_type": "stream",
     "text": [
      "Happy\n",
      "Angry\n",
      "Angry\n",
      "Angry\n",
      "Angry\n"
     ]
    }
   ],
   "source": [
    "import numpy as np\n",
    "\n",
    "initialState = np.array([1,0])\n",
    "tansitionProb = np.array([[0.8,0.2], [0.2,0.8]])\n",
    "emissionProb = np.array([[0.4,0.1,0.3,0.2],[0.1,0.4,0.2,0.3]])\n",
    "observation = np.array([1,4,2,2,3])\n",
    "\n",
    "def forward(em_prob, psi, phi):\n",
    "    for i in range(1,em_prob):\n",
    "        k=observation[i]\n",
    "        psi[i,:,:]=np.matmul(np.diag(phi[:,i-1]),np.matmul(tansitionProb,np.diag(emissionProb[:,k-1])))\n",
    "        phi[:,i]=np.amax(psi[i,:,:], axis = 0)\n",
    "    return psi, phi\n",
    "    \n",
    "def backward(em_prob, psi, phi):\n",
    "    for i in range(em_prob-2,0,-1):\n",
    "        phi_new=np.amax(psi[i,:,:], axis = 0)\n",
    "        psi[i,:,:]=np.matmul(psi[i,:,:],np.divide(phi_new,phi[:,i]))\n",
    "        phi[:,i]=phi_new\n",
    "    return phi\n",
    "\n",
    "def argMaxJunctionTree(tansitionProb, emissionProb, observation, initialState):\n",
    "    trans_prob = len(tansitionProb)\n",
    "    em_prob=len(observation)\n",
    "    psi=np.zeros((em_prob,trans_prob,trans_prob))\n",
    "    phi=np.ones((trans_prob,em_prob))\n",
    "    \n",
    "    psi, phi = forward(em_prob, psi, phi)\n",
    "    phi = backward(em_prob, psi, phi)\n",
    "    \n",
    "    h = np.zeros(5)\n",
    "    for i in range(5):\n",
    "        h[i] = np.argmax(phi[:,i])\n",
    "        \n",
    "    emotion = {0:'Happy',1:'Angry'}\n",
    "    \n",
    "    for i in range(5):\n",
    "        print(emotion[h[i]])\n",
    "    \n",
    "argMaxJunctionTree(tansitionProb, emissionProb, observation, initialState)"
   ]
  },
  {
   "cell_type": "code",
   "execution_count": null,
   "id": "a53952cc",
   "metadata": {},
   "outputs": [],
   "source": []
  }
 ],
 "metadata": {
  "kernelspec": {
   "display_name": "Python 3 (ipykernel)",
   "language": "python",
   "name": "python3"
  },
  "language_info": {
   "codemirror_mode": {
    "name": "ipython",
    "version": 3
   },
   "file_extension": ".py",
   "mimetype": "text/x-python",
   "name": "python",
   "nbconvert_exporter": "python",
   "pygments_lexer": "ipython3",
   "version": "3.9.12"
  }
 },
 "nbformat": 4,
 "nbformat_minor": 5
}
