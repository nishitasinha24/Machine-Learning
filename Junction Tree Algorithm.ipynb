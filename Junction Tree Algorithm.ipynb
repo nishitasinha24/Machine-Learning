{
 "cells": [
  {
   "cell_type": "code",
   "execution_count": 488,
   "id": "f1f88809",
   "metadata": {},
   "outputs": [],
   "source": [
    "import numpy as np"
   ]
  },
  {
   "cell_type": "code",
   "execution_count": 504,
   "id": "508a1bab",
   "metadata": {},
   "outputs": [],
   "source": [
    "def JunctionTreeAlgo(potentials):\n",
    "    marginals = potentials\n",
    "    n = len(marginals)\n",
    "    separators = np.ones((n-1,2))\n",
    "    for i in range(n-1):\n",
    "        separators[i] = sum(marginals[i])\n",
    "        s = np.multiply(separators[i].T, [[1,1],[1,1]])\n",
    "        marginals[i+1] = (marginals[i+1]*s)\n",
    "        \n",
    "    for i in range(n-1):\n",
    "        \n",
    "        separators_to_copy = separators.copy()\n",
    "        s_old = separators_to_copy[n-i-2,:]\n",
    "        separators[n-i-2,:] = np.sum(marginals[n-i-1], axis = 1).T\n",
    "        b = np.array([[1,1],[1,1]])\n",
    "        c = np.divide(separators[n-i-2],s_old)\n",
    "        prod = np.multiply(b,c)\n",
    "        marginals[n-i-2] = (marginals[n-i-2]*prod)\n",
    "    \n",
    "    m = np.zeros((4,2))\n",
    "    for i in range(n):\n",
    "        marginals[i] = np.divide(marginals[i],sum(sum(marginals[i]).T))\n",
    "    return marginals\n",
    "    "
   ]
  },
  {
   "cell_type": "code",
   "execution_count": 505,
   "id": "c5f50def",
   "metadata": {},
   "outputs": [
    {
     "name": "stdout",
     "output_type": "stream",
     "text": [
      "Final Answer\n",
      "[[[0.0437037  0.42466667]\n",
      "  [0.34962963 0.182     ]]\n",
      "\n",
      " [[0.28333333 0.11      ]\n",
      "  [0.05666667 0.55      ]]\n",
      "\n",
      " [[0.12333333 0.21666667]\n",
      "  [0.61666667 0.04333333]]\n",
      "\n",
      " [[0.54       0.2       ]\n",
      "  [0.06       0.2       ]]]\n"
     ]
    }
   ],
   "source": [
    "psis = np.zeros((4,2,2))\n",
    "psis[0] = [[0.1,0.7],[0.8,0.3]]\n",
    "psis[1] = [[0.5,0.1],[0.1,0.5]]\n",
    "psis[2] = [[0.1,0.5],[0.5,0.1]]\n",
    "psis[3] = [[0.9,0.3],[0.1,0.3]]\n",
    "marginals = JunctionTreeAlgo(psis)\n",
    "print(\"Final Answer\")\n",
    "print(marginals)"
   ]
  },
  {
   "cell_type": "code",
   "execution_count": null,
   "id": "637f57e3",
   "metadata": {},
   "outputs": [],
   "source": []
  },
  {
   "cell_type": "code",
   "execution_count": null,
   "id": "90a5beff",
   "metadata": {},
   "outputs": [],
   "source": []
  },
  {
   "cell_type": "code",
   "execution_count": null,
   "id": "568545fb",
   "metadata": {},
   "outputs": [],
   "source": []
  }
 ],
 "metadata": {
  "kernelspec": {
   "display_name": "Python 3 (ipykernel)",
   "language": "python",
   "name": "python3"
  },
  "language_info": {
   "codemirror_mode": {
    "name": "ipython",
    "version": 3
   },
   "file_extension": ".py",
   "mimetype": "text/x-python",
   "name": "python",
   "nbconvert_exporter": "python",
   "pygments_lexer": "ipython3",
   "version": "3.9.12"
  }
 },
 "nbformat": 4,
 "nbformat_minor": 5
}
